{
 "cells": [
  {
   "cell_type": "markdown",
   "metadata": {},
   "source": [
    "## Voy a repetir los pasos aquí usando este iPython notebook\n",
    "Asumo que has abierto tu consola de Cygwin, Linux o Mac y has tipeado el comando `ipython` para entrar a Python.\n",
    "\n",
    "Es necesario importar la librería `requests`:"
   ]
  },
  {
   "cell_type": "code",
   "execution_count": 1,
   "metadata": {
    "collapsed": true
   },
   "outputs": [],
   "source": [
    "import requests"
   ]
  },
  {
   "cell_type": "markdown",
   "metadata": {},
   "source": [
    "Luego necesitamos especificar la dirección web del registro de visitas y hacer el pedido POST utilizando los parámetros que averiguamos al usar Firefox on el plugin HTTP Live Headers. Usamos `20150818` ya que queremos datos del día 18 de Agosto del 2015."
   ]
  },
  {
   "cell_type": "code",
   "execution_count": 2,
   "metadata": {
    "collapsed": false
   },
   "outputs": [],
   "source": [
    "url = \"http://webapp.mimp.gob.pe:8080/visitaweb/ListarVisitas.do?fecha=20150818\"\n",
    "res = requests.post(url, {'page': 1, 'rows': 20})"
   ]
  },
  {
   "cell_type": "markdown",
   "metadata": {},
   "source": [
    "En estos momentos tenemos los resultados crudos en la variable `res`. Pero los tenemos que formatear a formato JSON usando el comando `.json()`. Además, guardaremos los resultados formateados en la variable `data`."
   ]
  },
  {
   "cell_type": "code",
   "execution_count": 3,
   "metadata": {
    "collapsed": true
   },
   "outputs": [],
   "source": [
    "data = res.json()"
   ]
  },
  {
   "cell_type": "markdown",
   "metadata": {},
   "source": [
    "Podemos examinar los datos obtenidos y averiguar cuántos registros existen para la fecha 20150818."
   ]
  },
  {
   "cell_type": "code",
   "execution_count": 4,
   "metadata": {
    "collapsed": false
   },
   "outputs": [
    {
     "data": {
      "text/plain": [
       "dict_keys(['total', 'rows'])"
      ]
     },
     "execution_count": 4,
     "metadata": {},
     "output_type": "execute_result"
    }
   ],
   "source": [
    "# Vemos que data tiene dos campos, rows y total:\n",
    "data.keys()"
   ]
  },
  {
   "cell_type": "code",
   "execution_count": 5,
   "metadata": {
    "collapsed": false
   },
   "outputs": [
    {
     "data": {
      "text/plain": [
       "311"
      ]
     },
     "execution_count": 5,
     "metadata": {},
     "output_type": "execute_result"
    }
   ],
   "source": [
    "data['total']"
   ]
  },
  {
   "cell_type": "markdown",
   "metadata": {},
   "source": [
    "Podemos ver el contenido de todos los registros y creamos la variable datum1 para guardar el primer resultado obtenido y examinarlo mejor:"
   ]
  },
  {
   "cell_type": "code",
   "execution_count": 6,
   "metadata": {
    "collapsed": false
   },
   "outputs": [
    {
     "data": {
      "text/plain": [
       "{'entidad': 'PENSIONISTA    PRONAA',\n",
       " 'ingreso': '07:56 AM',\n",
       " 'salida': '08:09 AM',\n",
       " 'txt_dni': '10007222',\n",
       " 'txt_fecha': '18/08/2015',\n",
       " 'txt_nombre_funcionario': 'ESTEBAN HUAMAN, NICANOR JUAN ',\n",
       " 'txt_observacion': 'CITACION',\n",
       " 'txt_unidad': 'OFICINA DE ASUNTOS FINANCIEROS',\n",
       " 'txt_visitante': 'CONCHA VALCARCEL JUAN RAMON'}"
      ]
     },
     "execution_count": 6,
     "metadata": {},
     "output_type": "execute_result"
    }
   ],
   "source": [
    "datum1 = data['rows'][0]\n",
    "datum1"
   ]
  },
  {
   "cell_type": "markdown",
   "metadata": {},
   "source": [
    "Si queremos guardar los resultados a un archivo CSV, el cual puede ser importado desde Excel, necesitamos establecer los encabezados del la futura tabla."
   ]
  },
  {
   "cell_type": "code",
   "execution_count": 7,
   "metadata": {
    "collapsed": false
   },
   "outputs": [
    {
     "data": {
      "text/plain": [
       "['txt_unidad',\n",
       " 'txt_observacion',\n",
       " 'salida',\n",
       " 'txt_nombre_funcionario',\n",
       " 'txt_dni',\n",
       " 'txt_fecha',\n",
       " 'ingreso',\n",
       " 'txt_visitante',\n",
       " 'entidad']"
      ]
     },
     "execution_count": 7,
     "metadata": {},
     "output_type": "execute_result"
    }
   ],
   "source": [
    "headers = [i for i in datum1.keys()]\n",
    "headers"
   ]
  },
  {
   "cell_type": "markdown",
   "metadata": {},
   "source": [
    "Ahora solo es cuestión de importar la librería CSV y guardar todo en el archivo `data.csv` mediante el uso de un [for loop](https://es.wikipedia.org/wiki/Bucle_for)."
   ]
  },
  {
   "cell_type": "code",
   "execution_count": 8,
   "metadata": {
    "collapsed": true
   },
   "outputs": [],
   "source": [
    "import csv\n",
    "\n",
    "with open(\"data.csv\", \"w\") as f:\n",
    "    writer = csv.writer(f)\n",
    "    writer.writerow(headers)\n",
    "    for row in data['rows']:\n",
    "        writer.writerow([value for key, value in row.items()])"
   ]
  },
  {
   "cell_type": "markdown",
   "metadata": {},
   "source": [
    "Y listo! Puedes abrir tu archivo `data.csv` en programas como Excel o similares. También puedes variar los parámetros como fecha, número de página, número de rows por página, etc para obtener resultados adicionales."
   ]
  }
 ],
 "metadata": {
  "kernelspec": {
   "display_name": "Python 3",
   "language": "python",
   "name": "python3"
  },
  "language_info": {
   "codemirror_mode": {
    "name": "ipython",
    "version": 3
   },
   "file_extension": ".py",
   "mimetype": "text/x-python",
   "name": "python",
   "nbconvert_exporter": "python",
   "pygments_lexer": "ipython3",
   "version": "3.4.2"
  }
 },
 "nbformat": 4,
 "nbformat_minor": 0
}
